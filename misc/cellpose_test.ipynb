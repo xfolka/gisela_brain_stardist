{
 "cells": [
  {
   "cell_type": "code",
   "execution_count": null,
   "metadata": {},
   "outputs": [],
   "source": [
    "from cellpose import io, models, train\n",
    "import os\n",
    "io.logger_setup()\n",
    "\n",
    "train_dir = os.getcwd()\n",
    "test_dir = os.getcwd()\n",
    "print(\"cwd \" + os.getcwd())\n",
    "\n",
    "io.load_images_labels(test_dir)\n",
    "\n",
    "# output = io.load_train_test_data(train_dir, test_dir, image_filter=\"1.ome.tiff\",\n",
    "#                                  mask_filter=\"s3.ome.tiff\", look_one_level_down=False)\n",
    "# images, labels, image_names, test_images, test_labels, image_names_test = output"
   ]
  },
  {
   "cell_type": "code",
   "execution_count": null,
   "metadata": {},
   "outputs": [],
   "source": [
    "\n",
    "# this comes from the WEBKNOSSOS website, under the user settings\n",
    "AUTH_TOKEN = \"1mng65J7d-5IVFmfJoF4rw\" # from gisela\n",
    "WK_TIMEOUT=\"3600\" # in seconds\n",
    "ORG_ID = \"83d574429f8bc523\" # gisela's webknossos\n",
    "\n",
    "#sample1   = Annotation(\"6644c04d0100004a01fa11af\", \"deprecated\",\"60_2_5R\")\n",
    "#sample2    = Annotation(\"664316880100008a049e890e\", \"deprecated\",\"60_2_3L\")\n",
    "id_1 = \"6644c04d0100004a01fa11af\"\n",
    "id_2 = \"664316880100008a049e890e\"\n",
    "id_3 = \"664606440100005102550210\"\n",
    "\n",
    "#666c4ae70100002b015e2344\n",
    "# the dataset url comes from the WEBKNOSSOS website, open the image of interest from the dashboard and check\n",
    "# I removed the view information\n",
    "\n",
    "ANNOTATION_ID = id_2\n",
    "\n",
    "with wk.webknossos_context(token=AUTH_TOKEN):\n",
    "\n",
    "    annotations = wk.Annotation.open_as_remote_dataset(annotation_id_or_url=ANNOTATION_ID)\n",
    "    #lbl_layers = annotations.get_segmentation_layers()\n",
    "\n",
    "    DATASET_NAME = annotations._properties.id['name']\n",
    "    ds = wk.Dataset.open_remote(dataset_name_or_url=DATASET_NAME, organization_id=ORG_ID)\n",
    "    img_layer = ds.get_color_layers()\n",
    "    assert len(img_layer) == 1, \"more than an image, this is unexpected for this project\"\n",
    "    img_layer = img_layer[0]\n",
    "\n",
    "    #dataset = wk.Dataset.open_remote(DATASET_URL)\n",
    "    #img_data = dataset.get_color_layer().get_finest_mag().read()\n",
    "    \n"
   ]
  }
 ],
 "metadata": {
  "kernelspec": {
   "display_name": ".venv",
   "language": "python",
   "name": "python3"
  },
  "language_info": {
   "codemirror_mode": {
    "name": "ipython",
    "version": 3
   },
   "file_extension": ".py",
   "mimetype": "text/x-python",
   "name": "python",
   "nbconvert_exporter": "python",
   "pygments_lexer": "ipython3",
   "version": "3.10.12"
  }
 },
 "nbformat": 4,
 "nbformat_minor": 2
}
